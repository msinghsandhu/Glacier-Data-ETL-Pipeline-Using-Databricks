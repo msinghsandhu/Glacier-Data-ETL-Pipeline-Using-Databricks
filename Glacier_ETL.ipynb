{
 "cells": [
  {
   "cell_type": "code",
   "execution_count": 0,
   "metadata": {
    "application/vnd.databricks.v1+cell": {
     "cellMetadata": {
      "byteLimit": 2048000,
      "rowLimit": 10000
     },
     "inputWidgets": {},
     "nuid": "2aa54ade-8be0-4d0d-a92c-0f9831b78918",
     "showTitle": false,
     "title": ""
    }
   },
   "outputs": [],
   "source": [
    "#Importing the libraries\n",
    "import requests\n",
    "from pyspark.sql import DataFrame"
   ]
  },
  {
   "cell_type": "code",
   "execution_count": 0,
   "metadata": {
    "application/vnd.databricks.v1+cell": {
     "cellMetadata": {
      "byteLimit": 2048000,
      "rowLimit": 10000
     },
     "inputWidgets": {},
     "nuid": "da86bdad-8329-4d98-b6f2-d58f05a256ac",
     "showTitle": false,
     "title": ""
    }
   },
   "outputs": [],
   "source": [
    "#Creating a function to extract data from URL\n",
    "#Loading the file in dbfs \n",
    "def get_data(url:str):\n",
    "    filename = url.split('/')[-1]\n",
    "    with requests.get(url, stream = True) as r:\n",
    "        with open('/dbfs/{}'.format(filename),'wb') as f:\n",
    "            for chunk in r.iter_content(chunk_size = 8192):\n",
    "                f.write(chunk)\n",
    "\n",
    "    return filename"
   ]
  },
  {
   "cell_type": "code",
   "execution_count": 0,
   "metadata": {
    "application/vnd.databricks.v1+cell": {
     "cellMetadata": {
      "byteLimit": 2048000,
      "rowLimit": 10000
     },
     "inputWidgets": {},
     "nuid": "46296d41-9a20-4100-aa76-bd2857364bac",
     "showTitle": false,
     "title": ""
    }
   },
   "outputs": [],
   "source": [
    "file_name = get_data('https://datahub.io/core/glacier-mass-balance/r/glaciers.csv')"
   ]
  },
  {
   "cell_type": "code",
   "execution_count": 0,
   "metadata": {
    "application/vnd.databricks.v1+cell": {
     "cellMetadata": {
      "byteLimit": 2048000,
      "rowLimit": 10000
     },
     "inputWidgets": {},
     "nuid": "30d52f24-1098-4400-af24-a6e9a504069b",
     "showTitle": false,
     "title": ""
    }
   },
   "outputs": [],
   "source": [
    "file_format = file_name.split('.')[-1]"
   ]
  },
  {
   "cell_type": "code",
   "execution_count": 0,
   "metadata": {
    "application/vnd.databricks.v1+cell": {
     "cellMetadata": {
      "byteLimit": 2048000,
      "rowLimit": 10000
     },
     "inputWidgets": {},
     "nuid": "6b31d566-e50f-4f1f-be12-22793188f8a8",
     "showTitle": false,
     "title": ""
    }
   },
   "outputs": [],
   "source": [
    "#Reading the file from dbfs\n",
    "def read_data(file_name):\n",
    "    if file_format == 'csv':\n",
    "        df = spark.read.format(file_format).option('header','true').load('file:/dbfs/{}'.format(file_name))\n",
    "    \n",
    "    return df"
   ]
  },
  {
   "cell_type": "code",
   "execution_count": 0,
   "metadata": {
    "application/vnd.databricks.v1+cell": {
     "cellMetadata": {
      "byteLimit": 2048000,
      "rowLimit": 10000
     },
     "inputWidgets": {},
     "nuid": "18378fa9-48a5-4927-84f3-e5d14163dc92",
     "showTitle": false,
     "title": ""
    }
   },
   "outputs": [],
   "source": [
    "df = read_data(file_name)"
   ]
  },
  {
   "cell_type": "code",
   "execution_count": 0,
   "metadata": {
    "application/vnd.databricks.v1+cell": {
     "cellMetadata": {
      "byteLimit": 2048000,
      "rowLimit": 10000
     },
     "inputWidgets": {},
     "nuid": "07bb7945-bf77-4ec7-8b76-4c226521a443",
     "showTitle": false,
     "title": ""
    }
   },
   "outputs": [],
   "source": [
    "df.createOrReplaceTempView('df')"
   ]
  },
  {
   "cell_type": "code",
   "execution_count": 0,
   "metadata": {
    "application/vnd.databricks.v1+cell": {
     "cellMetadata": {
      "byteLimit": 2048000,
      "rowLimit": 10000
     },
     "inputWidgets": {},
     "nuid": "b875cf9d-883d-4ec3-a24d-7ef435ba9e43",
     "showTitle": false,
     "title": ""
    }
   },
   "outputs": [],
   "source": [
    "# Performing the transformation operations\n",
    "# Spliting the data into 2 different dataframes\n",
    "def transform_data(df: DataFrame):\n",
    "    spark.sql(\"create or replace temp view nintys as select * from df where Year like '19%' order by Year asc;\")\n",
    "    nintys_df = spark.sql('select * from nintys')\n",
    "    spark.sql(\"create or replace temp view modern as select * from df where Year like '20%' order by Year asc;\")\n",
    "    modern_df = spark.sql('select * from modern')\n",
    "\n",
    "    return nintys_df,modern_df"
   ]
  },
  {
   "cell_type": "code",
   "execution_count": 0,
   "metadata": {
    "application/vnd.databricks.v1+cell": {
     "cellMetadata": {
      "byteLimit": 2048000,
      "rowLimit": 10000
     },
     "inputWidgets": {},
     "nuid": "44a95e8d-27be-4180-bfab-946b81b4ce5b",
     "showTitle": false,
     "title": ""
    }
   },
   "outputs": [],
   "source": [
    "x,y = transform_data(df)"
   ]
  },
  {
   "cell_type": "code",
   "execution_count": 0,
   "metadata": {
    "application/vnd.databricks.v1+cell": {
     "cellMetadata": {
      "byteLimit": 2048000,
      "rowLimit": 10000
     },
     "inputWidgets": {},
     "nuid": "6c39df3e-df82-4fb9-a548-b47eff9baa67",
     "showTitle": false,
     "title": ""
    }
   },
   "outputs": [],
   "source": [
    "# Loading operations\n",
    "# Creating the file name \n",
    "def create_file_names():\n",
    "    nintys_file_namez = spark.sql(\"(select * from nintys order by Year asc limit 1) union (select * from nintys order by Year desc limit 1)\")\n",
    "    modern_file_namez = spark.sql(\"(select * from modern order by Year asc limit 1) union (select * from modern order by Year desc limit 1)\")\n",
    "    nintys_file_namez_df = nintys_file_namez.collect()\n",
    "    modern_file_namez_df = modern_file_namez.collect()\n",
    "    nintys_file_name = nintys_file_namez_df[0].__getitem__('Year')+\"-\"+nintys_file_namez_df[0].__getitem__('Year')\n",
    "    modern_file_name = modern_file_namez_df[0].__getitem__('Year')+\"-\"+modern_file_namez_df[0].__getitem__('Year')\n",
    "\n",
    "    return nintys_file_name,modern_file_name"
   ]
  },
  {
   "cell_type": "code",
   "execution_count": 0,
   "metadata": {
    "application/vnd.databricks.v1+cell": {
     "cellMetadata": {
      "byteLimit": 2048000,
      "rowLimit": 10000
     },
     "inputWidgets": {},
     "nuid": "8a0f7dd4-592f-4c87-9cb7-65b7822595ba",
     "showTitle": false,
     "title": ""
    }
   },
   "outputs": [],
   "source": [
    "m,n = create_file_names()"
   ]
  },
  {
   "cell_type": "code",
   "execution_count": 0,
   "metadata": {
    "application/vnd.databricks.v1+cell": {
     "cellMetadata": {
      "byteLimit": 2048000,
      "rowLimit": 10000
     },
     "inputWidgets": {},
     "nuid": "ecd93f42-6861-4fa9-8b64-79df3b1431a5",
     "showTitle": false,
     "title": ""
    }
   },
   "outputs": [],
   "source": [
    "#Loading the files into dbfs\n",
    "def write_df(file_type: str,dfs,file_names):\n",
    "    for x,y in zip(dfs,file_names):\n",
    "        m = x.write.mode('overwrite').format(file_type).save(\"/dbfs/{}.{}\".format(y,file_type))\n",
    "    return m"
   ]
  },
  {
   "cell_type": "code",
   "execution_count": 0,
   "metadata": {
    "application/vnd.databricks.v1+cell": {
     "cellMetadata": {
      "byteLimit": 2048000,
      "rowLimit": 10000
     },
     "inputWidgets": {},
     "nuid": "df1cce7b-0359-43ba-ad7c-041ae217e063",
     "showTitle": false,
     "title": ""
    }
   },
   "outputs": [],
   "source": [
    "write_df('csv',[x,y],[m,n])"
   ]
  },
  {
   "cell_type": "code",
   "execution_count": 0,
   "metadata": {
    "application/vnd.databricks.v1+cell": {
     "cellMetadata": {
      "byteLimit": 2048000,
      "rowLimit": 10000
     },
     "inputWidgets": {},
     "nuid": "6806cb88-2e8f-4e62-8e21-0abbc1060d29",
     "showTitle": false,
     "title": ""
    }
   },
   "outputs": [
    {
     "output_type": "display_data",
     "data": {
      "text/html": [
       "<style scoped>\n",
       "  .table-result-container {\n",
       "    max-height: 300px;\n",
       "    overflow: auto;\n",
       "  }\n",
       "  table, th, td {\n",
       "    border: 1px solid black;\n",
       "    border-collapse: collapse;\n",
       "  }\n",
       "  th, td {\n",
       "    padding: 5px;\n",
       "  }\n",
       "  th {\n",
       "    text-align: left;\n",
       "  }\n",
       "</style><div class='table-result-container'><table class='table-result'><thead style='background-color: white'><tr><th>Year</th><th>Mean cumulative mass balance</th><th>Number of observations</th></tr></thead><tbody><tr><td>1945</td><td>0</td><td>null</td></tr><tr><td>1946</td><td>-1.13</td><td>1</td></tr><tr><td>1947</td><td>-3.19</td><td>1</td></tr><tr><td>1948</td><td>-3.19</td><td>1</td></tr><tr><td>1949</td><td>-3.82</td><td>3</td></tr><tr><td>1950</td><td>-4.887</td><td>3</td></tr><tr><td>1951</td><td>-5.217</td><td>3</td></tr><tr><td>1952</td><td>-5.707</td><td>3</td></tr><tr><td>1953</td><td>-6.341</td><td>7</td></tr><tr><td>1954</td><td>-6.825</td><td>6</td></tr><tr><td>1955</td><td>-6.575</td><td>7</td></tr><tr><td>1956</td><td>-6.814</td><td>7</td></tr><tr><td>1957</td><td>-6.989</td><td>9</td></tr><tr><td>1958</td><td>-7.693</td><td>9</td></tr><tr><td>1959</td><td>-8.325</td><td>11</td></tr><tr><td>1960</td><td>-8.688</td><td>14</td></tr><tr><td>1961</td><td>-8.935</td><td>15</td></tr><tr><td>1962</td><td>-9.109</td><td>20</td></tr><tr><td>1963</td><td>-9.567</td><td>22</td></tr><tr><td>1964</td><td>-9.699</td><td>22</td></tr><tr><td>1965</td><td>-9.298</td><td>24</td></tr><tr><td>1966</td><td>-9.436</td><td>27</td></tr><tr><td>1967</td><td>-9.303</td><td>29</td></tr><tr><td>1968</td><td>-9.219</td><td>31</td></tr><tr><td>1969</td><td>-9.732</td><td>31</td></tr><tr><td>1970</td><td>-10.128</td><td>32</td></tr><tr><td>1971</td><td>-10.288</td><td>32</td></tr><tr><td>1972</td><td>-10.441</td><td>32</td></tr><tr><td>1973</td><td>-10.538</td><td>32</td></tr><tr><td>1974</td><td>-10.613</td><td>32</td></tr><tr><td>1975</td><td>-10.534</td><td>33</td></tr><tr><td>1976</td><td>-10.633</td><td>35</td></tr><tr><td>1977</td><td>-10.682</td><td>37</td></tr><tr><td>1978</td><td>-10.754</td><td>37</td></tr><tr><td>1979</td><td>-11.127</td><td>37</td></tr><tr><td>1980</td><td>-11.318</td><td>36</td></tr><tr><td>1981</td><td>-11.394</td><td>35</td></tr><tr><td>1982</td><td>-11.849</td><td>36</td></tr><tr><td>1983</td><td>-11.846</td><td>37</td></tr><tr><td>1984</td><td>-11.902</td><td>37</td></tr><tr><td>1985</td><td>-12.238</td><td>37</td></tr><tr><td>1986</td><td>-12.782</td><td>37</td></tr><tr><td>1987</td><td>-12.795</td><td>37</td></tr><tr><td>1988</td><td>-13.26</td><td>37</td></tr><tr><td>1989</td><td>-13.343</td><td>37</td></tr><tr><td>1990</td><td>-13.687</td><td>37</td></tr><tr><td>1991</td><td>-14.255</td><td>37</td></tr><tr><td>1992</td><td>-14.501</td><td>36</td></tr><tr><td>1993</td><td>-14.695</td><td>37</td></tr><tr><td>1994</td><td>-15.276</td><td>37</td></tr><tr><td>1995</td><td>-15.486</td><td>37</td></tr><tr><td>1996</td><td>-15.89</td><td>37</td></tr><tr><td>1997</td><td>-16.487</td><td>37</td></tr><tr><td>1998</td><td>-17.31</td><td>37</td></tr><tr><td>1999</td><td>-17.697</td><td>37</td></tr></tbody></table></div>"
      ]
     },
     "metadata": {
      "application/vnd.databricks.v1+output": {
       "addedWidgets": {},
       "aggData": [],
       "aggError": "",
       "aggOverflow": false,
       "aggSchema": [],
       "aggSeriesLimitReached": false,
       "aggType": "",
       "arguments": {},
       "columnCustomDisplayInfos": {},
       "data": [
        [
         "1945",
         "0",
         null
        ],
        [
         "1946",
         "-1.13",
         "1"
        ],
        [
         "1947",
         "-3.19",
         "1"
        ],
        [
         "1948",
         "-3.19",
         "1"
        ],
        [
         "1949",
         "-3.82",
         "3"
        ],
        [
         "1950",
         "-4.887",
         "3"
        ],
        [
         "1951",
         "-5.217",
         "3"
        ],
        [
         "1952",
         "-5.707",
         "3"
        ],
        [
         "1953",
         "-6.341",
         "7"
        ],
        [
         "1954",
         "-6.825",
         "6"
        ],
        [
         "1955",
         "-6.575",
         "7"
        ],
        [
         "1956",
         "-6.814",
         "7"
        ],
        [
         "1957",
         "-6.989",
         "9"
        ],
        [
         "1958",
         "-7.693",
         "9"
        ],
        [
         "1959",
         "-8.325",
         "11"
        ],
        [
         "1960",
         "-8.688",
         "14"
        ],
        [
         "1961",
         "-8.935",
         "15"
        ],
        [
         "1962",
         "-9.109",
         "20"
        ],
        [
         "1963",
         "-9.567",
         "22"
        ],
        [
         "1964",
         "-9.699",
         "22"
        ],
        [
         "1965",
         "-9.298",
         "24"
        ],
        [
         "1966",
         "-9.436",
         "27"
        ],
        [
         "1967",
         "-9.303",
         "29"
        ],
        [
         "1968",
         "-9.219",
         "31"
        ],
        [
         "1969",
         "-9.732",
         "31"
        ],
        [
         "1970",
         "-10.128",
         "32"
        ],
        [
         "1971",
         "-10.288",
         "32"
        ],
        [
         "1972",
         "-10.441",
         "32"
        ],
        [
         "1973",
         "-10.538",
         "32"
        ],
        [
         "1974",
         "-10.613",
         "32"
        ],
        [
         "1975",
         "-10.534",
         "33"
        ],
        [
         "1976",
         "-10.633",
         "35"
        ],
        [
         "1977",
         "-10.682",
         "37"
        ],
        [
         "1978",
         "-10.754",
         "37"
        ],
        [
         "1979",
         "-11.127",
         "37"
        ],
        [
         "1980",
         "-11.318",
         "36"
        ],
        [
         "1981",
         "-11.394",
         "35"
        ],
        [
         "1982",
         "-11.849",
         "36"
        ],
        [
         "1983",
         "-11.846",
         "37"
        ],
        [
         "1984",
         "-11.902",
         "37"
        ],
        [
         "1985",
         "-12.238",
         "37"
        ],
        [
         "1986",
         "-12.782",
         "37"
        ],
        [
         "1987",
         "-12.795",
         "37"
        ],
        [
         "1988",
         "-13.26",
         "37"
        ],
        [
         "1989",
         "-13.343",
         "37"
        ],
        [
         "1990",
         "-13.687",
         "37"
        ],
        [
         "1991",
         "-14.255",
         "37"
        ],
        [
         "1992",
         "-14.501",
         "36"
        ],
        [
         "1993",
         "-14.695",
         "37"
        ],
        [
         "1994",
         "-15.276",
         "37"
        ],
        [
         "1995",
         "-15.486",
         "37"
        ],
        [
         "1996",
         "-15.89",
         "37"
        ],
        [
         "1997",
         "-16.487",
         "37"
        ],
        [
         "1998",
         "-17.31",
         "37"
        ],
        [
         "1999",
         "-17.697",
         "37"
        ]
       ],
       "datasetInfos": [],
       "dbfsResultPath": null,
       "isJsonSchema": true,
       "metadata": {},
       "overflow": false,
       "plotOptions": {
        "customPlotOptions": {},
        "displayType": "table",
        "pivotAggregation": null,
        "pivotColumns": null,
        "xColumns": null,
        "yColumns": null
       },
       "removedWidgets": [],
       "schema": [
        {
         "metadata": "{}",
         "name": "Year",
         "type": "\"string\""
        },
        {
         "metadata": "{}",
         "name": "Mean cumulative mass balance",
         "type": "\"string\""
        },
        {
         "metadata": "{}",
         "name": "Number of observations",
         "type": "\"string\""
        }
       ],
       "type": "table"
      }
     },
     "output_type": "display_data"
    }
   ],
   "source": [
    "display(x)"
   ]
  },
  {
   "cell_type": "code",
   "execution_count": 0,
   "metadata": {
    "application/vnd.databricks.v1+cell": {
     "cellMetadata": {
      "byteLimit": 2048000,
      "rowLimit": 10000
     },
     "inputWidgets": {},
     "nuid": "628e8037-9ac8-4658-9ac5-861daa081d74",
     "showTitle": false,
     "title": ""
    }
   },
   "outputs": [
    {
     "output_type": "display_data",
     "data": {
      "text/html": [
       "<style scoped>\n",
       "  .table-result-container {\n",
       "    max-height: 300px;\n",
       "    overflow: auto;\n",
       "  }\n",
       "  table, th, td {\n",
       "    border: 1px solid black;\n",
       "    border-collapse: collapse;\n",
       "  }\n",
       "  th, td {\n",
       "    padding: 5px;\n",
       "  }\n",
       "  th {\n",
       "    text-align: left;\n",
       "  }\n",
       "</style><div class='table-result-container'><table class='table-result'><thead style='background-color: white'><tr><th>Year</th><th>Mean cumulative mass balance</th><th>Number of observations</th></tr></thead><tbody><tr><td>2000</td><td>-17.727</td><td>37</td></tr><tr><td>2001</td><td>-18.032</td><td>37</td></tr><tr><td>2002</td><td>-18.726</td><td>37</td></tr><tr><td>2003</td><td>-19.984</td><td>37</td></tr><tr><td>2004</td><td>-20.703</td><td>37</td></tr><tr><td>2005</td><td>-21.405</td><td>37</td></tr><tr><td>2006</td><td>-22.595</td><td>37</td></tr><tr><td>2007</td><td>-23.255</td><td>37</td></tr><tr><td>2008</td><td>-23.776</td><td>37</td></tr><tr><td>2009</td><td>-24.459</td><td>37</td></tr><tr><td>2010</td><td>-25.158</td><td>37</td></tr><tr><td>2011</td><td>-26.294</td><td>37</td></tr><tr><td>2012</td><td>-26.93</td><td>36</td></tr><tr><td>2013</td><td>-27.817</td><td>31</td></tr><tr><td>2014</td><td>-28.652</td><td>24</td></tr></tbody></table></div>"
      ]
     },
     "metadata": {
      "application/vnd.databricks.v1+output": {
       "addedWidgets": {},
       "aggData": [],
       "aggError": "",
       "aggOverflow": false,
       "aggSchema": [],
       "aggSeriesLimitReached": false,
       "aggType": "",
       "arguments": {},
       "columnCustomDisplayInfos": {},
       "data": [
        [
         "2000",
         "-17.727",
         "37"
        ],
        [
         "2001",
         "-18.032",
         "37"
        ],
        [
         "2002",
         "-18.726",
         "37"
        ],
        [
         "2003",
         "-19.984",
         "37"
        ],
        [
         "2004",
         "-20.703",
         "37"
        ],
        [
         "2005",
         "-21.405",
         "37"
        ],
        [
         "2006",
         "-22.595",
         "37"
        ],
        [
         "2007",
         "-23.255",
         "37"
        ],
        [
         "2008",
         "-23.776",
         "37"
        ],
        [
         "2009",
         "-24.459",
         "37"
        ],
        [
         "2010",
         "-25.158",
         "37"
        ],
        [
         "2011",
         "-26.294",
         "37"
        ],
        [
         "2012",
         "-26.93",
         "36"
        ],
        [
         "2013",
         "-27.817",
         "31"
        ],
        [
         "2014",
         "-28.652",
         "24"
        ]
       ],
       "datasetInfos": [],
       "dbfsResultPath": null,
       "isJsonSchema": true,
       "metadata": {},
       "overflow": false,
       "plotOptions": {
        "customPlotOptions": {},
        "displayType": "table",
        "pivotAggregation": null,
        "pivotColumns": null,
        "xColumns": null,
        "yColumns": null
       },
       "removedWidgets": [],
       "schema": [
        {
         "metadata": "{}",
         "name": "Year",
         "type": "\"string\""
        },
        {
         "metadata": "{}",
         "name": "Mean cumulative mass balance",
         "type": "\"string\""
        },
        {
         "metadata": "{}",
         "name": "Number of observations",
         "type": "\"string\""
        }
       ],
       "type": "table"
      }
     },
     "output_type": "display_data"
    }
   ],
   "source": [
    "display(y)"
   ]
  },
  {
   "cell_type": "code",
   "execution_count": 0,
   "metadata": {
    "application/vnd.databricks.v1+cell": {
     "cellMetadata": {
      "byteLimit": 2048000,
      "rowLimit": 10000
     },
     "inputWidgets": {},
     "nuid": "680eadae-d729-4394-b2c2-38f7bb080545",
     "showTitle": false,
     "title": ""
    }
   },
   "outputs": [
    {
     "output_type": "stream",
     "name": "stdout",
     "output_type": "stream",
     "text": [
      "Out[50]: [FileInfo(path='dbfs:/dbfs/1945-1945.csv/', name='1945-1945.csv/', size=0, modificationTime=0),\n FileInfo(path='dbfs:/dbfs/2000-2000.csv/', name='2000-2000.csv/', size=0, modificationTime=0)]"
     ]
    }
   ],
   "source": [
    "# Displaying files after loading in dbfs\n",
    "# Final output files\n",
    "dbutils.fs.ls('/dbfs')"
   ]
  }
 ],
 "metadata": {
  "application/vnd.databricks.v1+notebook": {
   "dashboards": [],
   "language": "python",
   "notebookMetadata": {
    "mostRecentlyExecutedCommandWithImplicitDF": {
     "commandId": 1023788462946051,
     "dataframes": [
      "_sqldf"
     ]
    },
    "pythonIndentUnit": 4
   },
   "notebookName": "Glacier_ETL",
   "widgets": {}
  }
 },
 "nbformat": 4,
 "nbformat_minor": 0
}
